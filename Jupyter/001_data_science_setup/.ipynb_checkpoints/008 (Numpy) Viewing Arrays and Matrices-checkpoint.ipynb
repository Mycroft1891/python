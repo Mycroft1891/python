{
 "cells": [
  {
   "cell_type": "markdown",
   "metadata": {},
   "source": [
    "# Viewing Arrays and Matrices"
   ]
  },
  {
   "cell_type": "code",
   "execution_count": 1,
   "metadata": {},
   "outputs": [],
   "source": [
    "import numpy as np"
   ]
  },
  {
   "cell_type": "code",
   "execution_count": 3,
   "metadata": {},
   "outputs": [],
   "source": [
    "three_dimensional = np.array([\n",
    "    [\n",
    "        [15.5, 20, 44],\n",
    "        [34, 23, 78.2],\n",
    "        [43, 64.3, 76]\n",
    "    ],\n",
    "    [\n",
    "        [24, 24, 24],\n",
    "        [80, 69, 32],\n",
    "        [12, 15, 19]\n",
    "    ]\n",
    "])"
   ]
  },
  {
   "cell_type": "code",
   "execution_count": 4,
   "metadata": {},
   "outputs": [
    {
     "data": {
      "text/plain": [
       "16"
      ]
     },
     "execution_count": 4,
     "metadata": {},
     "output_type": "execute_result"
    }
   ],
   "source": [
    "np.unique(three_dimensional).size"
   ]
  },
  {
   "cell_type": "code",
   "execution_count": 5,
   "metadata": {},
   "outputs": [
    {
     "data": {
      "text/plain": [
       "18"
      ]
     },
     "execution_count": 5,
     "metadata": {},
     "output_type": "execute_result"
    }
   ],
   "source": [
    "three_dimensional.size"
   ]
  },
  {
   "cell_type": "code",
   "execution_count": 6,
   "metadata": {},
   "outputs": [
    {
     "data": {
      "text/plain": [
       "array([[[15.5, 20. , 44. ],\n",
       "        [34. , 23. , 78.2],\n",
       "        [43. , 64.3, 76. ]],\n",
       "\n",
       "       [[24. , 24. , 24. ],\n",
       "        [80. , 69. , 32. ],\n",
       "        [12. , 15. , 19. ]]])"
      ]
     },
     "execution_count": 6,
     "metadata": {},
     "output_type": "execute_result"
    }
   ],
   "source": [
    "three_dimensional"
   ]
  },
  {
   "cell_type": "code",
   "execution_count": 7,
   "metadata": {},
   "outputs": [
    {
     "data": {
      "text/plain": [
       "array([[15.5, 20. , 44. ],\n",
       "       [34. , 23. , 78.2],\n",
       "       [43. , 64.3, 76. ]])"
      ]
     },
     "execution_count": 7,
     "metadata": {},
     "output_type": "execute_result"
    }
   ],
   "source": [
    "three_dimensional[0]"
   ]
  },
  {
   "cell_type": "code",
   "execution_count": 8,
   "metadata": {},
   "outputs": [
    {
     "data": {
      "text/plain": [
       "array([[[15.5, 20. , 44. ],\n",
       "        [34. , 23. , 78.2]],\n",
       "\n",
       "       [[24. , 24. , 24. ],\n",
       "        [80. , 69. , 32. ]]])"
      ]
     },
     "execution_count": 8,
     "metadata": {},
     "output_type": "execute_result"
    }
   ],
   "source": [
    "three_dimensional[:2, :2]"
   ]
  },
  {
   "cell_type": "code",
   "execution_count": 9,
   "metadata": {},
   "outputs": [
    {
     "data": {
      "text/plain": [
       "array([[[[6, 5, 6, 1, 6],\n",
       "         [9, 7, 7, 0, 6],\n",
       "         [9, 8, 1, 0, 7],\n",
       "         [7, 1, 4, 2, 0]],\n",
       "\n",
       "        [[8, 2, 0, 9, 6],\n",
       "         [4, 1, 6, 1, 8],\n",
       "         [9, 0, 8, 8, 7],\n",
       "         [5, 7, 7, 9, 8]],\n",
       "\n",
       "        [[7, 9, 7, 0, 4],\n",
       "         [5, 7, 1, 3, 4],\n",
       "         [3, 4, 3, 0, 6],\n",
       "         [4, 6, 0, 5, 4]]],\n",
       "\n",
       "\n",
       "       [[[9, 7, 0, 3, 3],\n",
       "         [3, 1, 3, 9, 6],\n",
       "         [3, 7, 9, 9, 5],\n",
       "         [9, 6, 2, 4, 4]],\n",
       "\n",
       "        [[5, 2, 7, 7, 9],\n",
       "         [8, 0, 5, 2, 5],\n",
       "         [3, 1, 4, 4, 0],\n",
       "         [7, 6, 0, 1, 1]],\n",
       "\n",
       "        [[1, 3, 1, 7, 1],\n",
       "         [4, 3, 2, 1, 0],\n",
       "         [3, 6, 3, 5, 6],\n",
       "         [7, 0, 7, 9, 4]]]])"
      ]
     },
     "execution_count": 9,
     "metadata": {},
     "output_type": "execute_result"
    }
   ],
   "source": [
    "random_sized_array = np.random.randint(10, size=(2,3,4,5))\n",
    "random_sized_array"
   ]
  },
  {
   "cell_type": "code",
   "execution_count": 10,
   "metadata": {},
   "outputs": [
    {
     "data": {
      "text/plain": [
       "((2, 3, 4, 5), 4)"
      ]
     },
     "execution_count": 10,
     "metadata": {},
     "output_type": "execute_result"
    }
   ],
   "source": [
    "random_sized_array.shape, random_sized_array.ndim"
   ]
  },
  {
   "cell_type": "code",
   "execution_count": 11,
   "metadata": {
    "scrolled": true
   },
   "outputs": [
    {
     "data": {
      "text/plain": [
       "array([[[[6, 5, 6],\n",
       "         [9, 7, 7],\n",
       "         [9, 8, 1],\n",
       "         [7, 1, 4]],\n",
       "\n",
       "        [[8, 2, 0],\n",
       "         [4, 1, 6],\n",
       "         [9, 0, 8],\n",
       "         [5, 7, 7]],\n",
       "\n",
       "        [[7, 9, 7],\n",
       "         [5, 7, 1],\n",
       "         [3, 4, 3],\n",
       "         [4, 6, 0]]],\n",
       "\n",
       "\n",
       "       [[[9, 7, 0],\n",
       "         [3, 1, 3],\n",
       "         [3, 7, 9],\n",
       "         [9, 6, 2]],\n",
       "\n",
       "        [[5, 2, 7],\n",
       "         [8, 0, 5],\n",
       "         [3, 1, 4],\n",
       "         [7, 6, 0]],\n",
       "\n",
       "        [[1, 3, 1],\n",
       "         [4, 3, 2],\n",
       "         [3, 6, 3],\n",
       "         [7, 0, 7]]]])"
      ]
     },
     "execution_count": 11,
     "metadata": {},
     "output_type": "execute_result"
    }
   ],
   "source": [
    "random_sized_array[:,:,:,:3]"
   ]
  },
  {
   "cell_type": "code",
   "execution_count": null,
   "metadata": {},
   "outputs": [],
   "source": []
  }
 ],
 "metadata": {
  "kernelspec": {
   "display_name": "Python 3",
   "language": "python",
   "name": "python3"
  },
  "language_info": {
   "codemirror_mode": {
    "name": "ipython",
    "version": 3
   },
   "file_extension": ".py",
   "mimetype": "text/x-python",
   "name": "python",
   "nbconvert_exporter": "python",
   "pygments_lexer": "ipython3",
   "version": "3.7.4"
  }
 },
 "nbformat": 4,
 "nbformat_minor": 4
}
