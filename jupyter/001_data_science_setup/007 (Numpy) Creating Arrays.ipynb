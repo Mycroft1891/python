{
 "cells": [
  {
   "cell_type": "markdown",
   "metadata": {},
   "source": [
    "# Creating Arrays"
   ]
  },
  {
   "cell_type": "code",
   "execution_count": 1,
   "metadata": {},
   "outputs": [],
   "source": [
    "import numpy as np"
   ]
  },
  {
   "cell_type": "code",
   "execution_count": 2,
   "metadata": {},
   "outputs": [
    {
     "data": {
      "text/plain": [
       "array([1, 2, 3])"
      ]
     },
     "execution_count": 2,
     "metadata": {},
     "output_type": "execute_result"
    }
   ],
   "source": [
    "one_d = np.array([1,2,3])\n",
    "one_d"
   ]
  },
  {
   "cell_type": "markdown",
   "metadata": {},
   "source": [
    "Sometimes we just want to create an array with a given shape. We can do this using the `ones`, `zeros`, `arange`"
   ]
  },
  {
   "cell_type": "code",
   "execution_count": 3,
   "metadata": {},
   "outputs": [
    {
     "data": {
      "text/plain": [
       "array([[['1', '1', '1'],\n",
       "        ['1', '1', '1'],\n",
       "        ['1', '1', '1']],\n",
       "\n",
       "       [['1', '1', '1'],\n",
       "        ['1', '1', '1'],\n",
       "        ['1', '1', '1']]], dtype='<U1')"
      ]
     },
     "execution_count": 3,
     "metadata": {},
     "output_type": "execute_result"
    }
   ],
   "source": [
    "ones = np.ones((2,3,3), dtype=str)\n",
    "ones"
   ]
  },
  {
   "cell_type": "code",
   "execution_count": 4,
   "metadata": {},
   "outputs": [
    {
     "data": {
      "text/plain": [
       "array([ 0,  3,  6,  9, 12, 15, 18])"
      ]
     },
     "execution_count": 4,
     "metadata": {},
     "output_type": "execute_result"
    }
   ],
   "source": [
    "array_from_range = np.arange(0, 20, 3)\n",
    "array_from_range"
   ]
  },
  {
   "cell_type": "code",
   "execution_count": 5,
   "metadata": {},
   "outputs": [
    {
     "data": {
      "text/plain": [
       "array([[79, 34, 51, 17],\n",
       "       [73, 43, 83, 36],\n",
       "       [60, 96, 80, 92],\n",
       "       [79, 89, 48, 27],\n",
       "       [44, 51, 87, 29]])"
      ]
     },
     "execution_count": 5,
     "metadata": {},
     "output_type": "execute_result"
    }
   ],
   "source": [
    "array_with_random_ints = np.random.randint(1, 100, (5,4))\n",
    "array_with_random_ints"
   ]
  },
  {
   "cell_type": "code",
   "execution_count": 6,
   "metadata": {},
   "outputs": [
    {
     "data": {
      "text/plain": [
       "array([[0.90437567, 0.22028631, 0.72788259],\n",
       "       [0.7913316 , 0.31966372, 0.58556257],\n",
       "       [0.22827483, 0.88165549, 0.52483884],\n",
       "       [0.09496781, 0.76239879, 0.31752114],\n",
       "       [0.64415386, 0.85145683, 0.17401625],\n",
       "       [0.82328818, 0.95793898, 0.86793474]])"
      ]
     },
     "execution_count": 6,
     "metadata": {},
     "output_type": "execute_result"
    }
   ],
   "source": [
    "array_with_random_floats = np.random.random((6,3))\n",
    "array_with_random_floats"
   ]
  },
  {
   "cell_type": "markdown",
   "metadata": {},
   "source": [
    "Give all this randomness, we might want to share our notebook and allow people to rerun the cells with the same random values we got. It turns out that numpy's random numbers are not really random but `pseudo random numbers` which means that we have specify a `seed` number and numpy will stick to that seed rather than picking a different seed everytime."
   ]
  },
  {
   "cell_type": "code",
   "execution_count": 7,
   "metadata": {},
   "outputs": [
    {
     "data": {
      "text/plain": [
       "array([[79, 62, 17, 74],\n",
       "       [ 9, 63, 28, 31],\n",
       "       [81,  8, 77, 16],\n",
       "       [54, 81, 28, 45],\n",
       "       [78, 76, 66, 48]])"
      ]
     },
     "execution_count": 7,
     "metadata": {},
     "output_type": "execute_result"
    }
   ],
   "source": [
    "np.random.seed(5)\n",
    "random_ints = np.random.randint(1, 100, (5,4))\n",
    "random_ints"
   ]
  },
  {
   "cell_type": "markdown",
   "metadata": {},
   "source": [
    "As you can see, the above random array generator doesn't change while the array generator below keeps changing everytime the cell is rerun."
   ]
  },
  {
   "cell_type": "code",
   "execution_count": 8,
   "metadata": {
    "scrolled": true
   },
   "outputs": [
    {
     "data": {
      "text/plain": [
       "array([[31, 85, 87, 19],\n",
       "       [10, 42, 63,  2],\n",
       "       [83, 17, 79,  6],\n",
       "       [59,  1, 81,  5],\n",
       "       [37, 52, 28, 32]])"
      ]
     },
     "execution_count": 8,
     "metadata": {},
     "output_type": "execute_result"
    }
   ],
   "source": [
    "random_ints = np.random.randint(1, 100, (5,4))\n",
    "random_ints"
   ]
  },
  {
   "cell_type": "code",
   "execution_count": null,
   "metadata": {},
   "outputs": [],
   "source": []
  }
 ],
 "metadata": {
  "kernelspec": {
   "display_name": "Python 3",
   "language": "python",
   "name": "python3"
  },
  "language_info": {
   "codemirror_mode": {
    "name": "ipython",
    "version": 3
   },
   "file_extension": ".py",
   "mimetype": "text/x-python",
   "name": "python",
   "nbconvert_exporter": "python",
   "pygments_lexer": "ipython3",
   "version": "3.7.7"
  }
 },
 "nbformat": 4,
 "nbformat_minor": 4
}
